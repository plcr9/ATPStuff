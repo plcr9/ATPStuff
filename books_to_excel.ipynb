{
 "cells": [
  {
   "cell_type": "code",
   "execution_count": 68,
   "metadata": {},
   "outputs": [
    {
     "name": "stdout",
     "output_type": "stream",
     "text": [
      "Index(['bookID', 'title', 'authors', 'average_rating', 'isbn', 'isbn13',\n",
      "       'language_code', '  num_pages', 'ratings_count', 'text_reviews_count',\n",
      "       'publication_date', 'publisher'],\n",
      "      dtype='object')\n"
     ]
    }
   ],
   "source": [
    "import pandas as pd \n",
    "\n",
    "data = pd.read_csv('Books.csv', on_bad_lines='skip')\n",
    "print(data.columns)"
   ]
  },
  {
   "cell_type": "code",
   "execution_count": 69,
   "metadata": {},
   "outputs": [
    {
     "name": "stdout",
     "output_type": "stream",
     "text": [
      "bookID                0\n",
      "title                 0\n",
      "authors               0\n",
      "average_rating        0\n",
      "isbn                  0\n",
      "isbn13                0\n",
      "language_code         0\n",
      "  num_pages           0\n",
      "ratings_count         0\n",
      "text_reviews_count    0\n",
      "publication_date      0\n",
      "publisher             0\n",
      "dtype: int64\n"
     ]
    }
   ],
   "source": [
    "missing_values = data.isnull().sum()\n",
    "print(missing_values)"
   ]
  },
  {
   "cell_type": "code",
   "execution_count": 70,
   "metadata": {},
   "outputs": [
    {
     "name": "stdout",
     "output_type": "stream",
     "text": [
      "Index(['bookID', 'title', 'authors', 'average_rating', 'isbn', 'isbn13',\n",
      "       'language_code', '  num_pages', 'ratings_count', 'text_reviews_count',\n",
      "       'publication_date', 'publisher'],\n",
      "      dtype='object')\n"
     ]
    }
   ],
   "source": [
    "data.rename(columns={\"   num_pages\":\"num_pages\"}, inplace=True)\n",
    "print(data.columns)"
   ]
  },
  {
   "cell_type": "code",
   "execution_count": 71,
   "metadata": {},
   "outputs": [
    {
     "ename": "KeyError",
     "evalue": "'num_pages'",
     "output_type": "error",
     "traceback": [
      "\u001b[0;31m---------------------------------------------------------------------------\u001b[0m",
      "\u001b[0;31mKeyError\u001b[0m                                  Traceback (most recent call last)",
      "File \u001b[0;32m~/ATPStuff/data_venv_atpstuff/lib/python3.9/site-packages/pandas/core/indexes/base.py:3805\u001b[0m, in \u001b[0;36mIndex.get_loc\u001b[0;34m(self, key)\u001b[0m\n\u001b[1;32m   3804\u001b[0m \u001b[39mtry\u001b[39;00m:\n\u001b[0;32m-> 3805\u001b[0m     \u001b[39mreturn\u001b[39;00m \u001b[39mself\u001b[39;49m\u001b[39m.\u001b[39;49m_engine\u001b[39m.\u001b[39;49mget_loc(casted_key)\n\u001b[1;32m   3806\u001b[0m \u001b[39mexcept\u001b[39;00m \u001b[39mKeyError\u001b[39;00m \u001b[39mas\u001b[39;00m err:\n",
      "File \u001b[0;32mindex.pyx:167\u001b[0m, in \u001b[0;36mpandas._libs.index.IndexEngine.get_loc\u001b[0;34m()\u001b[0m\n",
      "File \u001b[0;32mindex.pyx:196\u001b[0m, in \u001b[0;36mpandas._libs.index.IndexEngine.get_loc\u001b[0;34m()\u001b[0m\n",
      "File \u001b[0;32mpandas/_libs/hashtable_class_helper.pxi:7081\u001b[0m, in \u001b[0;36mpandas._libs.hashtable.PyObjectHashTable.get_item\u001b[0;34m()\u001b[0m\n",
      "File \u001b[0;32mpandas/_libs/hashtable_class_helper.pxi:7089\u001b[0m, in \u001b[0;36mpandas._libs.hashtable.PyObjectHashTable.get_item\u001b[0;34m()\u001b[0m\n",
      "\u001b[0;31mKeyError\u001b[0m: 'num_pages'",
      "\nThe above exception was the direct cause of the following exception:\n",
      "\u001b[0;31mKeyError\u001b[0m                                  Traceback (most recent call last)",
      "Cell \u001b[0;32mIn[71], line 2\u001b[0m\n\u001b[1;32m      1\u001b[0m \u001b[39mfor\u001b[39;00m column \u001b[39min\u001b[39;00m [\u001b[39m'\u001b[39m\u001b[39maverage_rating\u001b[39m\u001b[39m'\u001b[39m, \u001b[39m'\u001b[39m\u001b[39mnum_pages\u001b[39m\u001b[39m'\u001b[39m]:\n\u001b[0;32m----> 2\u001b[0m     data[column]\u001b[39m.\u001b[39mfillna(data[column]\u001b[39m.\u001b[39mmedian(), inplace\u001b[39m=\u001b[39m\u001b[39mTrue\u001b[39;00m)\n\u001b[1;32m      4\u001b[0m data[\u001b[39m'\u001b[39m\u001b[39mlanguage_code\u001b[39m\u001b[39m'\u001b[39m]\u001b[39m.\u001b[39mfillna(data[\u001b[39m'\u001b[39m\u001b[39mlanguage_code\u001b[39m\u001b[39m'\u001b[39m]\u001b[39m.\u001b[39mmode()[\u001b[39m0\u001b[39m], inplace\u001b[39m=\u001b[39m\u001b[39mTrue\u001b[39;00m)\n\u001b[1;32m      5\u001b[0m \u001b[39mprint\u001b[39m(data)\n",
      "File \u001b[0;32m~/ATPStuff/data_venv_atpstuff/lib/python3.9/site-packages/pandas/core/frame.py:4090\u001b[0m, in \u001b[0;36mDataFrame.__getitem__\u001b[0;34m(self, key)\u001b[0m\n\u001b[1;32m   4088\u001b[0m \u001b[39mif\u001b[39;00m \u001b[39mself\u001b[39m\u001b[39m.\u001b[39mcolumns\u001b[39m.\u001b[39mnlevels \u001b[39m>\u001b[39m \u001b[39m1\u001b[39m:\n\u001b[1;32m   4089\u001b[0m     \u001b[39mreturn\u001b[39;00m \u001b[39mself\u001b[39m\u001b[39m.\u001b[39m_getitem_multilevel(key)\n\u001b[0;32m-> 4090\u001b[0m indexer \u001b[39m=\u001b[39m \u001b[39mself\u001b[39;49m\u001b[39m.\u001b[39;49mcolumns\u001b[39m.\u001b[39;49mget_loc(key)\n\u001b[1;32m   4091\u001b[0m \u001b[39mif\u001b[39;00m is_integer(indexer):\n\u001b[1;32m   4092\u001b[0m     indexer \u001b[39m=\u001b[39m [indexer]\n",
      "File \u001b[0;32m~/ATPStuff/data_venv_atpstuff/lib/python3.9/site-packages/pandas/core/indexes/base.py:3812\u001b[0m, in \u001b[0;36mIndex.get_loc\u001b[0;34m(self, key)\u001b[0m\n\u001b[1;32m   3807\u001b[0m     \u001b[39mif\u001b[39;00m \u001b[39misinstance\u001b[39m(casted_key, \u001b[39mslice\u001b[39m) \u001b[39mor\u001b[39;00m (\n\u001b[1;32m   3808\u001b[0m         \u001b[39misinstance\u001b[39m(casted_key, abc\u001b[39m.\u001b[39mIterable)\n\u001b[1;32m   3809\u001b[0m         \u001b[39mand\u001b[39;00m \u001b[39many\u001b[39m(\u001b[39misinstance\u001b[39m(x, \u001b[39mslice\u001b[39m) \u001b[39mfor\u001b[39;00m x \u001b[39min\u001b[39;00m casted_key)\n\u001b[1;32m   3810\u001b[0m     ):\n\u001b[1;32m   3811\u001b[0m         \u001b[39mraise\u001b[39;00m InvalidIndexError(key)\n\u001b[0;32m-> 3812\u001b[0m     \u001b[39mraise\u001b[39;00m \u001b[39mKeyError\u001b[39;00m(key) \u001b[39mfrom\u001b[39;00m \u001b[39merr\u001b[39;00m\n\u001b[1;32m   3813\u001b[0m \u001b[39mexcept\u001b[39;00m \u001b[39mTypeError\u001b[39;00m:\n\u001b[1;32m   3814\u001b[0m     \u001b[39m# If we have a listlike key, _check_indexing_error will raise\u001b[39;00m\n\u001b[1;32m   3815\u001b[0m     \u001b[39m#  InvalidIndexError. Otherwise we fall through and re-raise\u001b[39;00m\n\u001b[1;32m   3816\u001b[0m     \u001b[39m#  the TypeError.\u001b[39;00m\n\u001b[1;32m   3817\u001b[0m     \u001b[39mself\u001b[39m\u001b[39m.\u001b[39m_check_indexing_error(key)\n",
      "\u001b[0;31mKeyError\u001b[0m: 'num_pages'"
     ]
    }
   ],
   "source": [
    "for column in ['average_rating', 'num_pages']:\n",
    "    data[column].fillna(data[column].median(), inplace=True)\n",
    "\n",
    "data['language_code'].fillna(data['language_code'].mode()[0], inplace=True)\n",
    "print(data)"
   ]
  },
  {
   "cell_type": "code",
   "execution_count": null,
   "metadata": {},
   "outputs": [],
   "source": [
    "data = data[data['ratings_count'] > 50]"
   ]
  },
  {
   "cell_type": "code",
   "execution_count": null,
   "metadata": {},
   "outputs": [],
   "source": [
    "data['publication_year'] = pd.to_datetime(data['publication_date'], errors='coerce').dt.year"
   ]
  },
  {
   "cell_type": "code",
   "execution_count": null,
   "metadata": {},
   "outputs": [
    {
     "name": "stdout",
     "output_type": "stream",
     "text": [
      "             bookID  average_rating        isbn13     num_pages  \\\n",
      "count  11123.000000    11123.000000  1.112300e+04  11123.000000   \n",
      "mean   21310.856963        3.934075  9.759880e+12    336.405556   \n",
      "std    13094.727252        0.350485  4.429758e+11    241.152626   \n",
      "min        1.000000        0.000000  8.987060e+09      0.000000   \n",
      "25%    10277.500000        3.770000  9.780345e+12    192.000000   \n",
      "50%    20287.000000        3.960000  9.780582e+12    299.000000   \n",
      "75%    32104.500000        4.140000  9.780872e+12    416.000000   \n",
      "max    45641.000000        5.000000  9.790008e+12   6576.000000   \n",
      "\n",
      "       ratings_count  text_reviews_count  publication_year  \n",
      "count   1.112300e+04        11123.000000      11121.000000  \n",
      "mean    1.794285e+04          542.048099       2000.170668  \n",
      "std     1.124992e+05         2576.619589          8.246168  \n",
      "min     0.000000e+00            0.000000       1900.000000  \n",
      "25%     1.040000e+02            9.000000       1998.000000  \n",
      "50%     7.450000e+02           47.000000       2003.000000  \n",
      "75%     5.000500e+03          238.000000       2005.000000  \n",
      "max     4.597666e+06        94265.000000       2020.000000  \n"
     ]
    }
   ],
   "source": [
    "summary_stats = data.describe()\n",
    "print(summary_stats)"
   ]
  },
  {
   "cell_type": "code",
   "execution_count": null,
   "metadata": {},
   "outputs": [
    {
     "name": "stdout",
     "output_type": "stream",
     "text": [
      "                                                   title  ratings_count\n",
      "10336                            Twilight (Twilight  #1)        4597666\n",
      "1697                 The Hobbit  or There and Back Again        2530894\n",
      "1462                              The Catcher in the Rye        2457092\n",
      "307                 Angels & Demons (Robert Langdon  #1)        2418736\n",
      "3      Harry Potter and the Prisoner of Azkaban (Harr...        2339585\n",
      "4415   Harry Potter and the Chamber of Secrets (Harry...        2293963\n",
      "1      Harry Potter and the Order of the Phoenix (Har...        2153167\n",
      "23     The Fellowship of the Ring (The Lord of the Ri...        2128944\n",
      "2114                                         Animal Farm        2111750\n",
      "0      Harry Potter and the Half-Blood Prince (Harry ...        2095690\n"
     ]
    }
   ],
   "source": [
    "top_rated_books = data.sort_values(by='ratings_count', ascending=False).head(10)\n",
    "print(top_rated_books[['title', 'ratings_count']])"
   ]
  },
  {
   "cell_type": "code",
   "execution_count": null,
   "metadata": {},
   "outputs": [],
   "source": [
    "avg_rating_by_lang = data.groupby('language_code')['average_rating'].mean()\n",
    "print(avg_rating_by_lang)"
   ]
  },
  {
   "cell_type": "code",
   "execution_count": null,
   "metadata": {},
   "outputs": [],
   "source": [
    "def categorize_book_length(num_pages):\n",
    "    if num_pages < 200:\n",
    "        return 'Short'\n",
    "    elif 200 <= num_pages <= 400:\n",
    "        return 'Medium'\n",
    "    else:\n",
    "        return 'Long'\n",
    "data['length_category'] = data['num_pages'].apply(categorize_book_length)\n"
   ]
  },
  {
   "cell_type": "code",
   "execution_count": null,
   "metadata": {},
   "outputs": [],
   "source": [
    "data['engagement_ratio'] = data['text_reviews_count'] / data['ratings_count']"
   ]
  },
  {
   "cell_type": "code",
   "execution_count": null,
   "metadata": {},
   "outputs": [],
   "source": [
    "with pd.ExcelWriter('processed_books.xlsx') as writer:\n",
    "    data.to_excel(writer, sheet_name='Cleaned Data', index=False)"
   ]
  },
  {
   "cell_type": "code",
   "execution_count": 73,
   "metadata": {},
   "outputs": [
    {
     "name": "stdout",
     "output_type": "stream",
     "text": [
      "language_code\n",
      "ale      4.360000\n",
      "ara      3.550000\n",
      "en-CA    4.025714\n",
      "en-GB    3.923411\n",
      "en-US    3.914659\n",
      "eng      3.934062\n",
      "enm      3.873333\n",
      "fre      3.971528\n",
      "ger      3.950101\n",
      "gla      4.470000\n",
      "glg      3.360000\n",
      "grc      3.707273\n",
      "ita      4.078000\n",
      "jpn      4.268696\n",
      "lat      4.353333\n",
      "msa      4.110000\n",
      "mul      4.126316\n",
      "nl       4.180000\n",
      "nor      3.600000\n",
      "por      3.945000\n",
      "rus      4.255000\n",
      "spa      3.929312\n",
      "srp      0.000000\n",
      "swe      3.455000\n",
      "tur      4.420000\n",
      "wel      5.000000\n",
      "zho      4.456429\n",
      "Name: average_rating, dtype: float64\n"
     ]
    }
   ],
   "source": [
    "avg_rating_by_lang = data.groupby('language_code')['average_rating'].mean()\n",
    "print(avg_rating_by_lang)\n",
    "\n",
    "summary_stats.to_excel(writer, sheet_name='Summary Statistics')\n",
    "avg_rating_by_lang.to_excel(writer, sheet_name='Average Rating by Language')"
   ]
  }
 ],
 "metadata": {
  "kernelspec": {
   "display_name": "data_venv_atpstuff",
   "language": "python",
   "name": "python3"
  },
  "language_info": {
   "codemirror_mode": {
    "name": "ipython",
    "version": 3
   },
   "file_extension": ".py",
   "mimetype": "text/x-python",
   "name": "python",
   "nbconvert_exporter": "python",
   "pygments_lexer": "ipython3",
   "version": "3.9.7"
  },
  "orig_nbformat": 4
 },
 "nbformat": 4,
 "nbformat_minor": 2
}
