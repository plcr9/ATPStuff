{
 "cells": [
  {
   "cell_type": "code",
   "execution_count": 2,
   "metadata": {},
   "outputs": [
    {
     "name": "stdout",
     "output_type": "stream",
     "text": [
      "            Name                    Email         DOB  \\\n",
      "0   Adam Johnson        oross@example.com  1999-06-17   \n",
      "1     Lori Burke        qdiaz@example.org  1976-05-22   \n",
      "2     Tyler Leon     pamela14@example.org  1981-03-18   \n",
      "3  Patrick Jones       hpetty@example.com  1959-12-19   \n",
      "4     Corey Hill  henryronald@example.com  1950-11-13   \n",
      "\n",
      "                                             Address  \n",
      "0             75464 Brianna Run\\nBurkeview, AL 05695  \n",
      "1       13885 Kenneth Drive\\nNew Ericaland, DE 85295  \n",
      "2  631 Palmer Green Apt. 338\\nPhillipschester, PR...  \n",
      "3  354 Roberts Overpass Apt. 561\\nSinghberg, OR 4...  \n",
      "4      03449 Castillo Stream\\nEast Stephen, IL 47006  \n"
     ]
    }
   ],
   "source": [
    "from faker import Faker \n",
    "import pandas as pd \n",
    "\n",
    "fake = Faker()\n",
    "\n",
    "def create_fake_data(num=100):\n",
    "    return pd.DataFrame({\n",
    "        'Name': [fake.name() for _ in range(num)],\n",
    "        'Email': [fake.email() for _ in range(num)],\n",
    "        'DOB': [fake.date_of_birth(minimum_age=18, maximum_age=90) for _ in range(num)],\n",
    "        'Address': [fake.address() for _ in range(num)]\n",
    "    })\n",
    "\n",
    "df = create_fake_data(100)\n",
    "print(df.head())"
   ]
  },
  {
   "cell_type": "code",
   "execution_count": 3,
   "metadata": {},
   "outputs": [
    {
     "data": {
      "text/html": [
       "<div>\n",
       "<style scoped>\n",
       "    .dataframe tbody tr th:only-of-type {\n",
       "        vertical-align: middle;\n",
       "    }\n",
       "\n",
       "    .dataframe tbody tr th {\n",
       "        vertical-align: top;\n",
       "    }\n",
       "\n",
       "    .dataframe thead th {\n",
       "        text-align: right;\n",
       "    }\n",
       "</style>\n",
       "<table border=\"1\" class=\"dataframe\">\n",
       "  <thead>\n",
       "    <tr style=\"text-align: right;\">\n",
       "      <th></th>\n",
       "      <th>Age Range</th>\n",
       "    </tr>\n",
       "  </thead>\n",
       "  <tbody>\n",
       "    <tr>\n",
       "      <th>0</th>\n",
       "      <td>Young</td>\n",
       "    </tr>\n",
       "    <tr>\n",
       "      <th>1</th>\n",
       "      <td>Middle-aged</td>\n",
       "    </tr>\n",
       "    <tr>\n",
       "      <th>2</th>\n",
       "      <td>Middle-aged</td>\n",
       "    </tr>\n",
       "    <tr>\n",
       "      <th>3</th>\n",
       "      <td>Old</td>\n",
       "    </tr>\n",
       "    <tr>\n",
       "      <th>4</th>\n",
       "      <td>Old</td>\n",
       "    </tr>\n",
       "  </tbody>\n",
       "</table>\n",
       "</div>"
      ],
      "text/plain": [
       "     Age Range\n",
       "0        Young\n",
       "1  Middle-aged\n",
       "2  Middle-aged\n",
       "3          Old\n",
       "4          Old"
      ]
     },
     "execution_count": 3,
     "metadata": {},
     "output_type": "execute_result"
    }
   ],
   "source": [
    "df['DOB'] = pd.to_datetime(df['DOB'], errors='coerce')\n",
    "df_anonymized = df.drop(columns=['Name', 'Email', 'Address'])\n",
    "current_year = pd.Timestamp.now().year\n",
    "df_anonymized['Age'] = current_year - df_anonymized['DOB'].dt.year \n",
    "\n",
    "bins = [0, 30, 60, 100]\n",
    "labels = ['Young', 'Middle-aged', 'Old']\n",
    "df_anonymized['Age Range'] = pd.cut(df_anonymized['Age'], bins=bins, labels=labels)\n",
    "\n",
    "df_anonymized.drop(columns=['DOB', 'Age'], inplace=True)\n",
    "df_anonymized.head()"
   ]
  },
  {
   "cell_type": "code",
   "execution_count": 4,
   "metadata": {},
   "outputs": [
    {
     "name": "stdout",
     "output_type": "stream",
     "text": [
      "                                                Name          Email  \\\n",
      "0  8e8de8998cf7c23eb57184fbfb2569dbc7d397bc1b7477...  jrcx@aojr.com   \n",
      "1  f63afa027696c3545256e20ece21be0cd2475684b721c2...  vanv@bffc.com   \n",
      "2  08a01847c76d5005a5ac05af768e3d2586d46d0f59531c...  suak@etpu.com   \n",
      "3  3c11e2192e8c629b42184b209feb998984ac969fc5a030...  imvc@qmmj.com   \n",
      "4  46e241537711d05cf4e664bb21a4354f7a412a1f3d38be...  yred@yrfh.com   \n",
      "\n",
      "         DOB                                            Address  \n",
      "0 1999-06-17             75464 Brianna Run\\nBurkeview, AL 05695  \n",
      "1 1976-05-22       13885 Kenneth Drive\\nNew Ericaland, DE 85295  \n",
      "2 1981-03-18  631 Palmer Green Apt. 338\\nPhillipschester, PR...  \n",
      "3 1959-12-19  354 Roberts Overpass Apt. 561\\nSinghberg, OR 4...  \n",
      "4 1950-11-13      03449 Castillo Stream\\nEast Stephen, IL 47006  \n"
     ]
    }
   ],
   "source": [
    "import hashlib\n",
    "\n",
    "def hash_data(data):\n",
    "    return hashlib.sha256(data.encode()).hexdigest() \n",
    "\n",
    "df_pseudonymized = df.copy() \n",
    "df_pseudonymized['Name'] = df['Name'].apply(hash_data)\n",
    "df_pseudonymized['Email'] = df['Email'].apply(lambda x: fake.lexify(text=\"????@????.com\", letters='abcdefghijklmnopqrstuvwxyz'))\n",
    "\n",
    "print(df_pseudonymized.head())"
   ]
  }
 ],
 "metadata": {
  "kernelspec": {
   "display_name": "data_venv_atpstuff",
   "language": "python",
   "name": "python3"
  },
  "language_info": {
   "codemirror_mode": {
    "name": "ipython",
    "version": 3
   },
   "file_extension": ".py",
   "mimetype": "text/x-python",
   "name": "python",
   "nbconvert_exporter": "python",
   "pygments_lexer": "ipython3",
   "version": "3.9.7"
  },
  "orig_nbformat": 4
 },
 "nbformat": 4,
 "nbformat_minor": 2
}
