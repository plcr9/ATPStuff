{
 "cells": [
  {
   "cell_type": "code",
   "execution_count": 1,
   "metadata": {},
   "outputs": [
    {
     "name": "stdout",
     "output_type": "stream",
     "text": [
      "[1, 3, 5, 3, 5, 2, 6, 2]\n"
     ]
    }
   ],
   "source": [
    "list_one = [1, 3, 5, 3,5, 2, 6, 2]\n",
    "print(list_one)"
   ]
  },
  {
   "cell_type": "code",
   "execution_count": 2,
   "metadata": {},
   "outputs": [
    {
     "name": "stdout",
     "output_type": "stream",
     "text": [
      "Monday       1\n",
      "Tuesday      5\n",
      "Wednesday    8\n",
      "Thursday     5\n",
      "Friday       4\n",
      "Saturday     3\n",
      "Sunday       2\n",
      "dtype: int64\n"
     ]
    }
   ],
   "source": [
    "import pandas as pd \n",
    "coffee_per_day = [1, 5, 8, 5, 4, 3, 2]\n",
    "days = ['Monday', 'Tuesday', 'Wednesday', 'Thursday', 'Friday', 'Saturday', 'Sunday']\n",
    "series_one = pd.Series(coffee_per_day, index=days)\n",
    "print(series_one)"
   ]
  },
  {
   "cell_type": "code",
   "execution_count": 3,
   "metadata": {},
   "outputs": [
    {
     "name": "stdout",
     "output_type": "stream",
     "text": [
      "Monday          Core & Cardio\n",
      "Tuesday           Arms & Back\n",
      "Wednesday            Rest Day\n",
      "Thursday     Legs & Shoulders\n",
      "Friday         Chest & Cardio\n",
      "Saturday             Rest Day\n",
      "Sunday           Calisthenics\n",
      "dtype: object\n"
     ]
    }
   ],
   "source": [
    "import pandas as pd \n",
    "\n",
    "workout_dictionary = {\n",
    "    \"Monday\" : \"Core & Cardio\", \n",
    "    \"Tuesday\" : \"Arms & Back\",\n",
    "    \"Wednesday\" : \"Rest Day\",\n",
    "    \"Thursday\" : \"Legs & Shoulders\",\n",
    "    \"Friday\" : \"Chest & Cardio\",\n",
    "    \"Saturday\" : \"Rest Day\",\n",
    "    \"Sunday\" : \"Calisthenics\"\n",
    "}\n",
    "\n",
    "workout_series = pd.Series(workout_dictionary)\n",
    "print(workout_series)"
   ]
  },
  {
   "cell_type": "code",
   "execution_count": 4,
   "metadata": {},
   "outputs": [
    {
     "name": "stdout",
     "output_type": "stream",
     "text": [
      "Monday       Rest!\n",
      "Tuesday      Rest!\n",
      "Wednesday    Rest!\n",
      "Thursday     Rest!\n",
      "Friday       Rest!\n",
      "Saturday     Rest!\n",
      "Sunday       Rest!\n",
      "dtype: object\n"
     ]
    }
   ],
   "source": [
    "import pandas as pd \n",
    "days = [\"Monday\", \"Tuesday\", \"Wednesday\", \"Thursday\", \"Friday\", \"Saturday\", \"Sunday\"]\n",
    "restful_life = pd.Series(\"Rest!\", days)\n",
    "print(restful_life)"
   ]
  },
  {
   "cell_type": "code",
   "execution_count": 5,
   "metadata": {},
   "outputs": [
    {
     "name": "stdout",
     "output_type": "stream",
     "text": [
      "    Will  Dale  Anna\n",
      "0      5     3     3\n",
      "1      4     4     4\n",
      "2      3     2     3\n",
      "3      3     3     4\n",
      "4      4     4     5\n",
      "5      4     4     3\n",
      "6      2     5     2\n",
      "7      3     3     5\n",
      "8      4     5     2\n",
      "9      4     2     5\n",
      "10     7     5     3\n",
      "11     4     2     5\n",
      "12     3     4     4\n",
      "13     3     5     4\n",
      "14     4     4     3\n",
      "15     3     3     2\n",
      "16     2     4     5\n",
      "17     3     3     3\n"
     ]
    }
   ],
   "source": [
    "import pandas as pd \n",
    "dict_scorecard = {\n",
    "    \"Will\" : [5, 4, 3, 3, 4, 4, 2, 3, 4, 4, 7, 4, 3, 3, 4, 3, 2, 3],\n",
    "    \"Dale\" : [3, 4, 2, 3, 4, 4, 5, 3, 5, 2, 5, 2, 4, 5, 4, 3, 4, 3],\n",
    "    \"Anna\" : [3, 4, 3, 4, 5, 3, 2, 5, 2, 5, 3, 5, 4, 4, 3, 2, 5, 3]\n",
    "}\n",
    "\n",
    "score_frame = pd.DataFrame(dict_scorecard)\n",
    "print(score_frame)"
   ]
  },
  {
   "cell_type": "code",
   "execution_count": 6,
   "metadata": {},
   "outputs": [
    {
     "data": {
      "text/html": [
       "<div>\n",
       "<style scoped>\n",
       "    .dataframe tbody tr th:only-of-type {\n",
       "        vertical-align: middle;\n",
       "    }\n",
       "\n",
       "    .dataframe tbody tr th {\n",
       "        vertical-align: top;\n",
       "    }\n",
       "\n",
       "    .dataframe thead th {\n",
       "        text-align: right;\n",
       "    }\n",
       "</style>\n",
       "<table border=\"1\" class=\"dataframe\">\n",
       "  <thead>\n",
       "    <tr style=\"text-align: right;\">\n",
       "      <th></th>\n",
       "      <th>Will</th>\n",
       "      <th>Dale</th>\n",
       "      <th>Anna</th>\n",
       "    </tr>\n",
       "  </thead>\n",
       "  <tbody>\n",
       "    <tr>\n",
       "      <th>14</th>\n",
       "      <td>3</td>\n",
       "      <td>5</td>\n",
       "      <td>4</td>\n",
       "    </tr>\n",
       "    <tr>\n",
       "      <th>15</th>\n",
       "      <td>4</td>\n",
       "      <td>4</td>\n",
       "      <td>3</td>\n",
       "    </tr>\n",
       "    <tr>\n",
       "      <th>16</th>\n",
       "      <td>3</td>\n",
       "      <td>3</td>\n",
       "      <td>2</td>\n",
       "    </tr>\n",
       "    <tr>\n",
       "      <th>17</th>\n",
       "      <td>2</td>\n",
       "      <td>4</td>\n",
       "      <td>5</td>\n",
       "    </tr>\n",
       "    <tr>\n",
       "      <th>18</th>\n",
       "      <td>3</td>\n",
       "      <td>3</td>\n",
       "      <td>3</td>\n",
       "    </tr>\n",
       "  </tbody>\n",
       "</table>\n",
       "</div>"
      ],
      "text/plain": [
       "    Will  Dale  Anna\n",
       "14     3     5     4\n",
       "15     4     4     3\n",
       "16     3     3     2\n",
       "17     2     4     5\n",
       "18     3     3     3"
      ]
     },
     "execution_count": 6,
     "metadata": {},
     "output_type": "execute_result"
    }
   ],
   "source": [
    "score_frame = pd.DataFrame(dict_scorecard, index=[i for i in range(1, 19)])\n",
    "score_frame.tail()"
   ]
  },
  {
   "cell_type": "code",
   "execution_count": null,
   "metadata": {},
   "outputs": [],
   "source": []
  },
  {
   "cell_type": "code",
   "execution_count": 7,
   "metadata": {},
   "outputs": [
    {
     "data": {
      "text/html": [
       "<div>\n",
       "<style scoped>\n",
       "    .dataframe tbody tr th:only-of-type {\n",
       "        vertical-align: middle;\n",
       "    }\n",
       "\n",
       "    .dataframe tbody tr th {\n",
       "        vertical-align: top;\n",
       "    }\n",
       "\n",
       "    .dataframe thead th {\n",
       "        text-align: right;\n",
       "    }\n",
       "</style>\n",
       "<table border=\"1\" class=\"dataframe\">\n",
       "  <thead>\n",
       "    <tr style=\"text-align: right;\">\n",
       "      <th></th>\n",
       "      <th>coffee</th>\n",
       "      <th>workout</th>\n",
       "    </tr>\n",
       "  </thead>\n",
       "  <tbody>\n",
       "    <tr>\n",
       "      <th>Monday</th>\n",
       "      <td>1</td>\n",
       "      <td>Core &amp; Cardio</td>\n",
       "    </tr>\n",
       "    <tr>\n",
       "      <th>Tuesday</th>\n",
       "      <td>5</td>\n",
       "      <td>Arms &amp; Back</td>\n",
       "    </tr>\n",
       "    <tr>\n",
       "      <th>Wednesday</th>\n",
       "      <td>8</td>\n",
       "      <td>Rest Day</td>\n",
       "    </tr>\n",
       "    <tr>\n",
       "      <th>Thursday</th>\n",
       "      <td>5</td>\n",
       "      <td>Legs &amp; Shoulders</td>\n",
       "    </tr>\n",
       "    <tr>\n",
       "      <th>Friday</th>\n",
       "      <td>4</td>\n",
       "      <td>Chest &amp; Cardio</td>\n",
       "    </tr>\n",
       "    <tr>\n",
       "      <th>Saturday</th>\n",
       "      <td>3</td>\n",
       "      <td>Rest Day</td>\n",
       "    </tr>\n",
       "    <tr>\n",
       "      <th>Sunday</th>\n",
       "      <td>2</td>\n",
       "      <td>Calisthenics</td>\n",
       "    </tr>\n",
       "  </tbody>\n",
       "</table>\n",
       "</div>"
      ],
      "text/plain": [
       "           coffee           workout\n",
       "Monday          1     Core & Cardio\n",
       "Tuesday         5       Arms & Back\n",
       "Wednesday       8          Rest Day\n",
       "Thursday        5  Legs & Shoulders\n",
       "Friday          4    Chest & Cardio\n",
       "Saturday        3          Rest Day\n",
       "Sunday          2      Calisthenics"
      ]
     },
     "execution_count": 7,
     "metadata": {},
     "output_type": "execute_result"
    }
   ],
   "source": [
    "import pandas as pd \n",
    "\n",
    "workout_dictionary = {\n",
    "    \"Monday\" : \"Core & Cardio\", \n",
    "    \"Tuesday\" : \"Arms & Back\",\n",
    "    \"Wednesday\" : \"Rest Day\",\n",
    "    \"Thursday\" : \"Legs & Shoulders\",\n",
    "    \"Friday\" : \"Chest & Cardio\",\n",
    "    \"Saturday\" : \"Rest Day\",\n",
    "    \"Sunday\" : \"Calisthenics\"\n",
    "}\n",
    "\n",
    "workout_series = pd.Series(workout_dictionary)\n",
    "\n",
    "coffee_per_day = [1, 5, 8, 5, 4, 3, 2]\n",
    "days = [\"Monday\", \"Tuesday\", \"Wednesday\", \"Thursday\", \"Friday\", \"Saturday\", \"Sunday\"]\n",
    "\n",
    "series_one = pd.Series(coffee_per_day, index=days)\n",
    "\n",
    "coffees_vs_workout = {\n",
    "    \"coffee\" : series_one,\n",
    "    \"workout\" : workout_series\n",
    "}\n",
    "\n",
    "pd.DataFrame(coffees_vs_workout)"
   ]
  }
 ],
 "metadata": {
  "kernelspec": {
   "display_name": "data_venv_atpstuff",
   "language": "python",
   "name": "python3"
  },
  "language_info": {
   "codemirror_mode": {
    "name": "ipython",
    "version": 3
   },
   "file_extension": ".py",
   "mimetype": "text/x-python",
   "name": "python",
   "nbconvert_exporter": "python",
   "pygments_lexer": "ipython3",
   "version": "3.9.7"
  },
  "orig_nbformat": 4
 },
 "nbformat": 4,
 "nbformat_minor": 2
}
